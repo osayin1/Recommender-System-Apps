{
 "metadata": {
  "name": "",
  "signature": "sha256:fc8b5fbf1de3076fd4d91d6243f610e9de859b9d3943444444dfe5932672947c"
 },
 "nbformat": 3,
 "nbformat_minor": 0,
 "worksheets": [
  {
   "cells": [
    {
     "cell_type": "code",
     "collapsed": false,
     "input": [
      "#%reset"
     ],
     "language": "python",
     "metadata": {},
     "outputs": [],
     "prompt_number": 1
    },
    {
     "cell_type": "code",
     "collapsed": false,
     "input": [
      "import gzip\n",
      "import simplejson\n",
      "import os \n",
      "import re\n",
      "import ipdb\n",
      "import itertools\n",
      "import pandas as pd\n",
      "import numpy as np"
     ],
     "language": "python",
     "metadata": {},
     "outputs": [],
     "prompt_number": 103
    },
    {
     "cell_type": "code",
     "collapsed": false,
     "input": [
      "%load_ext autoreload\n",
      "\n",
      "%autoreload 2\n",
      "#import recommender"
     ],
     "language": "python",
     "metadata": {},
     "outputs": [],
     "prompt_number": 3
    },
    {
     "cell_type": "code",
     "collapsed": false,
     "input": [
      "from recommender import rename_unknown_user, drop_duplicate_rating \n",
      "from recommender import compute_SlopeOne_dev, recommend_movie\n",
      "from recommender import predict_ratings_slopeOne\n",
      "from recommender import create_ratingsByUser_dict\n",
      "from recommender import update_slopeOne_devs"
     ],
     "language": "python",
     "metadata": {},
     "outputs": [],
     "prompt_number": 52
    },
    {
     "cell_type": "code",
     "collapsed": false,
     "input": [
      "#del compute_SlopeOne_dev"
     ],
     "language": "python",
     "metadata": {},
     "outputs": [],
     "prompt_number": 5
    },
    {
     "cell_type": "code",
     "collapsed": false,
     "input": [
      "def parse(filename):\n",
      "    f = gzip.open(filename, 'r')\n",
      "    entry = {}\n",
      "    for l in f:\n",
      "        l = l.strip()\n",
      "        colonPos = l.find(':')\n",
      "        if colonPos == -1:\n",
      "            yield entry\n",
      "            entry = {}\n",
      "            continue\n",
      "        eName = l[:colonPos]\n",
      "        rest = l[colonPos+2:]\n",
      "        entry[eName] = rest\n",
      "        yield entry"
     ],
     "language": "python",
     "metadata": {
      "run_control": {
       "breakpoint": false
      }
     },
     "outputs": [],
     "prompt_number": 6
    },
    {
     "cell_type": "code",
     "collapsed": false,
     "input": [
      "fname = os.getcwd() + '/ReviewData/Amazon_Instant_Video.txt.gz'\n",
      "\n",
      "#df_e = []\n",
      "if False: \n",
      "    e_no = 0\n",
      "    for e in parse(fname):\n",
      "        e_no += 1\n",
      "\n",
      "        ind = np.arange(e_no)\n",
      "        #import debug\n",
      "\n",
      "        if e_no == 1:\n",
      "            df_e = pd.DataFrame(data = {'videoID': e['product/productId'], 'title': e['product/title'],'price': e['product/price'],\n",
      "                                        'userID': e['review/userId'],'userName': e['review/profileName'],'rating': e['review/score'],\n",
      "                                        'review time': e['review/time'],'helpfulness': e['review/helpfulness']}, index=ind)\n",
      "        else : \n",
      "            row_e = pd.DataFrame(data = {'videoID': e['product/productId'], 'title': e['product/title'],'price': e['product/price'],\n",
      "                                        'userID': e['review/userId'],'userName': e['review/profileName'],'rating': e['review/score'],\n",
      "                                        'review time': e['review/time'],'helpfulness': e['review/helpfulness']}, index=np.array([ind[-1]]))\n",
      "\n",
      "            df_e = df_e.append(row_e)\n",
      "\n",
      "        #print simplejson.dumps(e)\n",
      "        #import debug"
     ],
     "language": "python",
     "metadata": {
      "run_control": {
       "breakpoint": false
      }
     },
     "outputs": [],
     "prompt_number": 7
    },
    {
     "cell_type": "code",
     "collapsed": false,
     "input": [
      "#len(df_e)   #483,583 entries loaded so far (total is 717,651 but gonna have to do)\n"
     ],
     "language": "python",
     "metadata": {
      "run_control": {
       "breakpoint": false
      }
     },
     "outputs": [],
     "prompt_number": 8
    },
    {
     "cell_type": "code",
     "collapsed": false,
     "input": [
      "#Save to csv so that you don't need to parse the whole thing again\n",
      "if False: #Save\n",
      "    fname_save = os.getcwd() + '/ReviewData/Amazon_Instant_Video_OS.csv'\n",
      "    df_e.to_csv(fname_save)\n",
      "\n",
      "if True: #Load from cvs    \n",
      "    no_total_entries = 100000  #some fraction of the entire data\n",
      "    df_e = pd.read_csv(os.getcwd() + '/ReviewData/Amazon_Instant_Video_OS.csv')\n",
      "    df_e = df_e.head(no_total_entries)\n",
      "    df_e.drop(['Unnamed: 0'],axis=1,inplace=True)\n",
      "    #df_e.isnull().sum()  #no NAs"
     ],
     "language": "python",
     "metadata": {
      "run_control": {
       "breakpoint": false
      }
     },
     "outputs": [],
     "prompt_number": 9
    },
    {
     "cell_type": "code",
     "collapsed": false,
     "input": [],
     "language": "python",
     "metadata": {},
     "outputs": [],
     "prompt_number": 9
    },
    {
     "cell_type": "code",
     "collapsed": false,
     "input": [],
     "language": "python",
     "metadata": {},
     "outputs": [],
     "prompt_number": 9
    },
    {
     "cell_type": "code",
     "collapsed": false,
     "input": [
      "#make data frame of (userID,userName) and (videoID,title) correspondences \n",
      "match_cols_user = ['userID','userName']\n",
      "df_user_IDname = df_e[match_cols_user].drop_duplicates()\n",
      "\n",
      "match_cols_video = ['videoID','title']\n",
      "df_video_IDname = df_e[match_cols_video].drop_duplicates()"
     ],
     "language": "python",
     "metadata": {},
     "outputs": [],
     "prompt_number": 10
    },
    {
     "cell_type": "code",
     "collapsed": false,
     "input": [
      "#  Assumption: Every unknown user is different (i.e. new user). \n",
      "#  Action    : Modify userID and userName for unknown users to include an index\n",
      "df_e['userID']   = rename_unknown_user(df_e['userID'])\n",
      "df_e['userName'] = rename_unknown_user(df_e['userName'])"
     ],
     "language": "python",
     "metadata": {},
     "outputs": [
      {
       "output_type": "stream",
       "stream": "stderr",
       "text": [
        "/Users/ozan/venv/base/lib/python2.7/site-packages/pandas/core/indexing.py:121: SettingWithCopyWarning: \n",
        "A value is trying to be set on a copy of a slice from a DataFrame\n",
        "\n",
        "See the the caveats in the documentation: http://pandas.pydata.org/pandas-docs/stable/indexing.html#indexing-view-versus-copy\n",
        "  self._setitem_with_indexer(indexer, value)\n"
       ]
      }
     ],
     "prompt_number": 11
    },
    {
     "cell_type": "code",
     "collapsed": false,
     "input": [
      "#len(df_e['userID'].loc[df_e['userID'] == 'unknown'])\n",
      "#len(df_e.userID.unique())"
     ],
     "language": "python",
     "metadata": {},
     "outputs": [],
     "prompt_number": 12
    },
    {
     "cell_type": "code",
     "collapsed": false,
     "input": [
      "# Split into training and testing sets\n",
      "test_size = 0.30\n",
      "split_mask = np.random.rand(no_total_entries) < 1-test_size\n",
      "          \n",
      "df_train = df_e.loc[split_mask]\n",
      "df_test  = df_e.loc[~split_mask]"
     ],
     "language": "python",
     "metadata": {},
     "outputs": [],
     "prompt_number": 13
    },
    {
     "cell_type": "code",
     "collapsed": false,
     "input": [
      "movies = df_e['videoID'].unique()  #by videoID\n",
      "movies_train = df_train['videoID'].unique()\n",
      "movies_test  = df_test['videoID'].unique()\n",
      "#movies, movies_train and movies_test are expected to identical"
     ],
     "language": "python",
     "metadata": {},
     "outputs": [],
     "prompt_number": 14
    },
    {
     "cell_type": "code",
     "collapsed": false,
     "input": [
      "users = df_e['userID'].unique()  #by userID\n",
      "users_train = df_train['userID'].unique()  #by userID\n",
      "users_test  = df_test['userID'].unique()  #by userID"
     ],
     "language": "python",
     "metadata": {},
     "outputs": [],
     "prompt_number": 15
    },
    {
     "cell_type": "code",
     "collapsed": false,
     "input": [
      "#del df_e\n"
     ],
     "language": "python",
     "metadata": {},
     "outputs": [],
     "prompt_number": 16
    },
    {
     "cell_type": "code",
     "collapsed": false,
     "input": [
      "#df_train.head()\n",
      "df_train.iloc[np.random.randint(0,len(df_train)-1,5)]"
     ],
     "language": "python",
     "metadata": {
      "run_control": {
       "breakpoint": false
      }
     },
     "outputs": [
      {
       "html": [
        "<div style=\"max-height:1000px;max-width:1500px;overflow:auto;\">\n",
        "<table border=\"1\" class=\"dataframe\">\n",
        "  <thead>\n",
        "    <tr style=\"text-align: right;\">\n",
        "      <th></th>\n",
        "      <th>helpfulness</th>\n",
        "      <th>price</th>\n",
        "      <th>rating</th>\n",
        "      <th>review time</th>\n",
        "      <th>title</th>\n",
        "      <th>userID</th>\n",
        "      <th>userName</th>\n",
        "      <th>videoID</th>\n",
        "    </tr>\n",
        "  </thead>\n",
        "  <tbody>\n",
        "    <tr>\n",
        "      <th>632  </th>\n",
        "      <td> 0/1</td>\n",
        "      <td> 2.99</td>\n",
        "      <td> 1</td>\n",
        "      <td> 1361836800</td>\n",
        "      <td> Amazon.com: Transformers: Dark of the Moon: Sh...</td>\n",
        "      <td> A1P3O3WTX0X7TW</td>\n",
        "      <td>                  D. Flores \"Just me\"</td>\n",
        "      <td> B005OT2YVA</td>\n",
        "    </tr>\n",
        "    <tr>\n",
        "      <th>42992</th>\n",
        "      <td> 3/3</td>\n",
        "      <td> 2.99</td>\n",
        "      <td> 1</td>\n",
        "      <td> 1207440000</td>\n",
        "      <td> Amazon.com: Joe Kidd: Clint Eastwood, Robert D...</td>\n",
        "      <td>  AOZ2SS7E0Y8P1</td>\n",
        "      <td>                             Aphelion</td>\n",
        "      <td> B003A1453E</td>\n",
        "    </tr>\n",
        "    <tr>\n",
        "      <th>83467</th>\n",
        "      <td> 1/1</td>\n",
        "      <td> 3.99</td>\n",
        "      <td> 5</td>\n",
        "      <td> 1327104000</td>\n",
        "      <td> Amazon.com: ShadowBoxer: vivendi: Amazon Insta...</td>\n",
        "      <td> A2WH7I3V34WPHO</td>\n",
        "      <td>                           shellerina</td>\n",
        "      <td> B0031D0CLU</td>\n",
        "    </tr>\n",
        "    <tr>\n",
        "      <th>39981</th>\n",
        "      <td> 0/0</td>\n",
        "      <td> 0.00</td>\n",
        "      <td> 5</td>\n",
        "      <td>  924825600</td>\n",
        "      <td> Amazon.com: The Basketball Diaries: Leonardo D...</td>\n",
        "      <td>    unknown2935</td>\n",
        "      <td>                          unknown2935</td>\n",
        "      <td> B001GPNXRA</td>\n",
        "    </tr>\n",
        "    <tr>\n",
        "      <th>15849</th>\n",
        "      <td> 3/5</td>\n",
        "      <td> 2.99</td>\n",
        "      <td> 1</td>\n",
        "      <td> 1100217600</td>\n",
        "      <td> Amazon.com: The Medallion: Jackie Chan, Lee Ev...</td>\n",
        "      <td> A3EJYJC25OJVKK</td>\n",
        "      <td> Distant Voyageur \"Nicholas Computer\"</td>\n",
        "      <td> B0018BOAD8</td>\n",
        "    </tr>\n",
        "  </tbody>\n",
        "</table>\n",
        "</div>"
       ],
       "metadata": {},
       "output_type": "pyout",
       "prompt_number": 17,
       "text": [
        "      helpfulness price  rating  review time  \\\n",
        "632           0/1  2.99       1   1361836800   \n",
        "42992         3/3  2.99       1   1207440000   \n",
        "83467         1/1  3.99       5   1327104000   \n",
        "39981         0/0  0.00       5    924825600   \n",
        "15849         3/5  2.99       1   1100217600   \n",
        "\n",
        "                                                   title          userID  \\\n",
        "632    Amazon.com: Transformers: Dark of the Moon: Sh...  A1P3O3WTX0X7TW   \n",
        "42992  Amazon.com: Joe Kidd: Clint Eastwood, Robert D...   AOZ2SS7E0Y8P1   \n",
        "83467  Amazon.com: ShadowBoxer: vivendi: Amazon Insta...  A2WH7I3V34WPHO   \n",
        "39981  Amazon.com: The Basketball Diaries: Leonardo D...     unknown2935   \n",
        "15849  Amazon.com: The Medallion: Jackie Chan, Lee Ev...  A3EJYJC25OJVKK   \n",
        "\n",
        "                                   userName     videoID  \n",
        "632                     D. Flores \"Just me\"  B005OT2YVA  \n",
        "42992                              Aphelion  B003A1453E  \n",
        "83467                            shellerina  B0031D0CLU  \n",
        "39981                           unknown2935  B001GPNXRA  \n",
        "15849  Distant Voyageur \"Nicholas Computer\"  B0018BOAD8  "
       ]
      }
     ],
     "prompt_number": 17
    },
    {
     "cell_type": "code",
     "collapsed": false,
     "input": [
      "# Question: Has any user rated the same movie more than once? \n",
      "df_train = drop_duplicate_rating(df_train)"
     ],
     "language": "python",
     "metadata": {
      "run_control": {
       "breakpoint": false
      }
     },
     "outputs": [
      {
       "output_type": "stream",
       "stream": "stderr",
       "text": [
        "/Users/ozan/venv/base/lib/python2.7/site-packages/pandas/core/frame.py:2798: SettingWithCopyWarning: \n",
        "A value is trying to be set on a copy of a slice from a DataFrame\n",
        "\n",
        "See the the caveats in the documentation: http://pandas.pydata.org/pandas-docs/stable/indexing.html#indexing-view-versus-copy\n",
        "  inplace=inplace, kind=kind, na_position=na_position)\n"
       ]
      }
     ],
     "prompt_number": 18
    },
    {
     "cell_type": "code",
     "collapsed": false,
     "input": [
      "# Make a smaller dataFrame by only extracting movieID, userID and rating. \n",
      "# Note: 'hepfullness' and 'price' could be utilized for better predictions/recommendations but let us ignore them for now..\n",
      "df_ratings_train = df_train.drop(['helpfulness','price','review time','title','userName'],axis=1,inplace=False)"
     ],
     "language": "python",
     "metadata": {
      "run_control": {
       "breakpoint": false
      }
     },
     "outputs": [],
     "prompt_number": 19
    },
    {
     "cell_type": "code",
     "collapsed": false,
     "input": [
      "df_ratings_train.head()"
     ],
     "language": "python",
     "metadata": {
      "run_control": {
       "breakpoint": false
      }
     },
     "outputs": [
      {
       "html": [
        "<div style=\"max-height:1000px;max-width:1500px;overflow:auto;\">\n",
        "<table border=\"1\" class=\"dataframe\">\n",
        "  <thead>\n",
        "    <tr style=\"text-align: right;\">\n",
        "      <th></th>\n",
        "      <th>rating</th>\n",
        "      <th>userID</th>\n",
        "      <th>videoID</th>\n",
        "    </tr>\n",
        "  </thead>\n",
        "  <tbody>\n",
        "    <tr>\n",
        "      <th>0</th>\n",
        "      <td> 4</td>\n",
        "      <td> A2Z8GGXKF1W48Y</td>\n",
        "      <td> B002BNZ2XE</td>\n",
        "    </tr>\n",
        "    <tr>\n",
        "      <th>1</th>\n",
        "      <td> 4</td>\n",
        "      <td>  AZVY9Y3A0YU1I</td>\n",
        "      <td> B002BNZ2XE</td>\n",
        "    </tr>\n",
        "    <tr>\n",
        "      <th>2</th>\n",
        "      <td> 4</td>\n",
        "      <td> A2582KMXLK2P06</td>\n",
        "      <td> B002BNZ2XE</td>\n",
        "    </tr>\n",
        "    <tr>\n",
        "      <th>4</th>\n",
        "      <td> 5</td>\n",
        "      <td>       unknown0</td>\n",
        "      <td> B002BNZ2XE</td>\n",
        "    </tr>\n",
        "    <tr>\n",
        "      <th>5</th>\n",
        "      <td> 4</td>\n",
        "      <td> A3STFVPM8NHJ7B</td>\n",
        "      <td> B004WAQDM8</td>\n",
        "    </tr>\n",
        "  </tbody>\n",
        "</table>\n",
        "</div>"
       ],
       "metadata": {},
       "output_type": "pyout",
       "prompt_number": 20,
       "text": [
        "   rating          userID     videoID\n",
        "0       4  A2Z8GGXKF1W48Y  B002BNZ2XE\n",
        "1       4   AZVY9Y3A0YU1I  B002BNZ2XE\n",
        "2       4  A2582KMXLK2P06  B002BNZ2XE\n",
        "4       5        unknown0  B002BNZ2XE\n",
        "5       4  A3STFVPM8NHJ7B  B004WAQDM8"
       ]
      }
     ],
     "prompt_number": 20
    },
    {
     "cell_type": "code",
     "collapsed": false,
     "input": [
      "df_ratingsByUser_train = df_ratings_train.groupby('userID')  "
     ],
     "language": "python",
     "metadata": {},
     "outputs": [],
     "prompt_number": 21
    },
    {
     "cell_type": "code",
     "collapsed": false,
     "input": [
      "user_movies_train = create_ratingsByUser_dict(df_ratingsByUser_train)"
     ],
     "language": "python",
     "metadata": {},
     "outputs": [],
     "prompt_number": 53
    },
    {
     "cell_type": "code",
     "collapsed": false,
     "input": [
      "# Prediction Algorithm 1: Weighted Slope One \n",
      "#(dev_train,card_train,user_movies_train) = compute_SlopeOne_dev(df_ratings_train)\n",
      "(dev_train,card_train) = compute_SlopeOne_dev(df_ratings_train,user_movies_train)\n"
     ],
     "language": "python",
     "metadata": {},
     "outputs": [],
     "prompt_number": 54
    },
    {
     "cell_type": "code",
     "collapsed": false,
     "input": [],
     "language": "python",
     "metadata": {},
     "outputs": [],
     "prompt_number": 54
    },
    {
     "cell_type": "code",
     "collapsed": false,
     "input": [
      "#investigate how many movie pairs have only one reviewer. \n",
      "no_rev = 0\n",
      "for key, value in card_train.items():\n",
      "    #print value \n",
      "    if value < 4:\n",
      "        no_rev += 1\n",
      "    \n",
      "no_rev / float(len(card_train))\n",
      "# Observation: Most movie pairs have less than 4 reviewers. "
     ],
     "language": "python",
     "metadata": {},
     "outputs": [
      {
       "metadata": {},
       "output_type": "pyout",
       "prompt_number": 55,
       "text": [
        "0.9749303315559652"
       ]
      }
     ],
     "prompt_number": 55
    },
    {
     "cell_type": "code",
     "collapsed": false,
     "input": [
      "# Predict ratings for users\n",
      "# Optional: Subset users that have rated more than a certain number of movies.\n",
      "min_num_rate = 5\n",
      "df_ratings_train_sub = df_ratings_train.groupby('userID').filter(lambda x: len(x) > min_num_rate-1)"
     ],
     "language": "python",
     "metadata": {
      "run_control": {
       "breakpoint": false
      }
     },
     "outputs": [],
     "prompt_number": 56
    },
    {
     "cell_type": "code",
     "collapsed": false,
     "input": [],
     "language": "python",
     "metadata": {},
     "outputs": [],
     "prompt_number": 56
    },
    {
     "cell_type": "code",
     "collapsed": false,
     "input": [
      "#del predict_ratings_slopeOne\n",
      "#del recommender\n",
      "#reload(recommender)"
     ],
     "language": "python",
     "metadata": {
      "run_control": {
       "breakpoint": false
      }
     },
     "outputs": [],
     "prompt_number": 57
    },
    {
     "cell_type": "code",
     "collapsed": false,
     "input": [
      "df_predicted = predict_ratings_slopeOne(df_ratings_train_sub,movies,dev_train,card_train)"
     ],
     "language": "python",
     "metadata": {
      "run_control": {
       "breakpoint": false
      }
     },
     "outputs": [],
     "prompt_number": 58
    },
    {
     "cell_type": "code",
     "collapsed": false,
     "input": [
      "#df_predicted.head()\n",
      "#df_predicted.iloc[np.random.randint(0,len(df_predicted),10)]        "
     ],
     "language": "python",
     "metadata": {
      "run_control": {
       "breakpoint": false
      }
     },
     "outputs": [],
     "prompt_number": 59
    },
    {
     "cell_type": "code",
     "collapsed": false,
     "input": [
      "# Compute errors for the predicted ratings\n",
      "df_test_pred = pd.merge(df_test, df_predicted, on=['userID','videoID'])[['userID','videoID','rating_x','rating_y']]\n",
      "# rating_x: actual, rating_y: predicted\n",
      "#df_test_pred.head()"
     ],
     "language": "python",
     "metadata": {},
     "outputs": [],
     "prompt_number": 60
    },
    {
     "cell_type": "code",
     "collapsed": false,
     "input": [
      "df_test_pred['rating_err'] = df_test_pred.rating_y - df_test_pred.rating_x"
     ],
     "language": "python",
     "metadata": {
      "run_control": {
       "breakpoint": false
      }
     },
     "outputs": [],
     "prompt_number": 61
    },
    {
     "cell_type": "code",
     "collapsed": false,
     "input": [
      "df_test_pred.iloc[np.random.randint(0,len(df_test_pred),5)]    "
     ],
     "language": "python",
     "metadata": {
      "run_control": {
       "breakpoint": false
      }
     },
     "outputs": [
      {
       "html": [
        "<div style=\"max-height:1000px;max-width:1500px;overflow:auto;\">\n",
        "<table border=\"1\" class=\"dataframe\">\n",
        "  <thead>\n",
        "    <tr style=\"text-align: right;\">\n",
        "      <th></th>\n",
        "      <th>userID</th>\n",
        "      <th>videoID</th>\n",
        "      <th>rating_x</th>\n",
        "      <th>rating_y</th>\n",
        "      <th>rating_err</th>\n",
        "    </tr>\n",
        "  </thead>\n",
        "  <tbody>\n",
        "    <tr>\n",
        "      <th>2438</th>\n",
        "      <td>  AQ990HW13DP08</td>\n",
        "      <td> B001I8WY0M</td>\n",
        "      <td> 4</td>\n",
        "      <td>           [4.0]</td>\n",
        "      <td>             [0.0]</td>\n",
        "    </tr>\n",
        "    <tr>\n",
        "      <th>1611</th>\n",
        "      <td>  A2D0PJFW2VY8G</td>\n",
        "      <td> B00130EVSS</td>\n",
        "      <td> 5</td>\n",
        "      <td> [4.18367346939]</td>\n",
        "      <td> [-0.816326530612]</td>\n",
        "    </tr>\n",
        "    <tr>\n",
        "      <th>1654</th>\n",
        "      <td> A18758S1PUYIDT</td>\n",
        "      <td> B0026FJT22</td>\n",
        "      <td> 5</td>\n",
        "      <td>  [4.7037037037]</td>\n",
        "      <td> [-0.296296296296]</td>\n",
        "    </tr>\n",
        "    <tr>\n",
        "      <th>1952</th>\n",
        "      <td> A2R6RA8FRBS608</td>\n",
        "      <td> B004D1AQ1K</td>\n",
        "      <td> 4</td>\n",
        "      <td>           [5.0]</td>\n",
        "      <td>             [1.0]</td>\n",
        "    </tr>\n",
        "    <tr>\n",
        "      <th>1744</th>\n",
        "      <td> A2GPEV42IO41CI</td>\n",
        "      <td> B000MD65XQ</td>\n",
        "      <td> 5</td>\n",
        "      <td> [2.57142857143]</td>\n",
        "      <td>  [-2.42857142857]</td>\n",
        "    </tr>\n",
        "  </tbody>\n",
        "</table>\n",
        "</div>"
       ],
       "metadata": {},
       "output_type": "pyout",
       "prompt_number": 62,
       "text": [
        "              userID     videoID  rating_x         rating_y         rating_err\n",
        "2438   AQ990HW13DP08  B001I8WY0M         4            [4.0]              [0.0]\n",
        "1611   A2D0PJFW2VY8G  B00130EVSS         5  [4.18367346939]  [-0.816326530612]\n",
        "1654  A18758S1PUYIDT  B0026FJT22         5   [4.7037037037]  [-0.296296296296]\n",
        "1952  A2R6RA8FRBS608  B004D1AQ1K         4            [5.0]              [1.0]\n",
        "1744  A2GPEV42IO41CI  B000MD65XQ         5  [2.57142857143]   [-2.42857142857]"
       ]
      }
     ],
     "prompt_number": 62
    },
    {
     "cell_type": "code",
     "collapsed": false,
     "input": [
      "mean_error_slope1 = np.mean(df_test_pred.rating_err.abs())\n",
      "print 'Mean error in predicted ratings by the weighted slope One algorithm is %0.3f' % mean_error_slope1"
     ],
     "language": "python",
     "metadata": {
      "run_control": {
       "breakpoint": false
      }
     },
     "outputs": [],
     "prompt_number": 63
    },
    {
     "cell_type": "code",
     "collapsed": false,
     "input": [
      "# Sort movies with highest actual ratings and investigate predictions\n",
      "df_test_pred.sort('rating_x',ascending=False).head(10)"
     ],
     "language": "python",
     "metadata": {
      "run_control": {
       "breakpoint": false
      }
     },
     "outputs": [
      {
       "html": [
        "<div style=\"max-height:1000px;max-width:1500px;overflow:auto;\">\n",
        "<table border=\"1\" class=\"dataframe\">\n",
        "  <thead>\n",
        "    <tr style=\"text-align: right;\">\n",
        "      <th></th>\n",
        "      <th>userID</th>\n",
        "      <th>videoID</th>\n",
        "      <th>rating_x</th>\n",
        "      <th>rating_y</th>\n",
        "      <th>rating_err</th>\n",
        "    </tr>\n",
        "  </thead>\n",
        "  <tbody>\n",
        "    <tr>\n",
        "      <th>1680</th>\n",
        "      <td>  AW3VZ5O895LRK</td>\n",
        "      <td> B000IZ8V9E</td>\n",
        "      <td> 5</td>\n",
        "      <td> [3.86666666667]</td>\n",
        "      <td>   [-1.13333333333]</td>\n",
        "    </tr>\n",
        "    <tr>\n",
        "      <th>1644</th>\n",
        "      <td> A2DAHERP7HYJGO</td>\n",
        "      <td> B0019TU182</td>\n",
        "      <td> 5</td>\n",
        "      <td> [4.58823529412]</td>\n",
        "      <td>  [-0.411764705882]</td>\n",
        "    </tr>\n",
        "    <tr>\n",
        "      <th>1639</th>\n",
        "      <td>  AD39QGHGWAOPQ</td>\n",
        "      <td> B000LVMCIQ</td>\n",
        "      <td> 5</td>\n",
        "      <td>               5</td>\n",
        "      <td>                  0</td>\n",
        "    </tr>\n",
        "    <tr>\n",
        "      <th>1638</th>\n",
        "      <td> A2U80IPZXN5V1U</td>\n",
        "      <td> B000LVMCIQ</td>\n",
        "      <td> 5</td>\n",
        "      <td>               5</td>\n",
        "      <td>                  0</td>\n",
        "    </tr>\n",
        "    <tr>\n",
        "      <th>1637</th>\n",
        "      <td>  AJKWF4W7QD4NS</td>\n",
        "      <td> B000LVMCIQ</td>\n",
        "      <td> 5</td>\n",
        "      <td>               5</td>\n",
        "      <td>                  0</td>\n",
        "    </tr>\n",
        "    <tr>\n",
        "      <th>1636</th>\n",
        "      <td>  ARFCORBCTKX1J</td>\n",
        "      <td> B000LVMCIQ</td>\n",
        "      <td> 5</td>\n",
        "      <td> [4.96551724138]</td>\n",
        "      <td> [-0.0344827586207]</td>\n",
        "    </tr>\n",
        "    <tr>\n",
        "      <th>1635</th>\n",
        "      <td> A1HXP4PZYZE52M</td>\n",
        "      <td> B000LVMCIQ</td>\n",
        "      <td> 5</td>\n",
        "      <td>               5</td>\n",
        "      <td>                  0</td>\n",
        "    </tr>\n",
        "    <tr>\n",
        "      <th>1634</th>\n",
        "      <td> A1JH5J1KQAUBMP</td>\n",
        "      <td> B000LVMCHW</td>\n",
        "      <td> 5</td>\n",
        "      <td>           [4.9]</td>\n",
        "      <td>             [-0.1]</td>\n",
        "    </tr>\n",
        "    <tr>\n",
        "      <th>1633</th>\n",
        "      <td>  AYGEKID3G7DPW</td>\n",
        "      <td> B000LVMCHW</td>\n",
        "      <td> 5</td>\n",
        "      <td>               5</td>\n",
        "      <td>                  0</td>\n",
        "    </tr>\n",
        "    <tr>\n",
        "      <th>1631</th>\n",
        "      <td> A139ZF7CJVVTJU</td>\n",
        "      <td> B000LVMCHW</td>\n",
        "      <td> 5</td>\n",
        "      <td>           [5.0]</td>\n",
        "      <td>              [0.0]</td>\n",
        "    </tr>\n",
        "  </tbody>\n",
        "</table>\n",
        "</div>"
       ],
       "metadata": {},
       "output_type": "pyout",
       "prompt_number": 64,
       "text": [
        "              userID     videoID  rating_x         rating_y  \\\n",
        "1680   AW3VZ5O895LRK  B000IZ8V9E         5  [3.86666666667]   \n",
        "1644  A2DAHERP7HYJGO  B0019TU182         5  [4.58823529412]   \n",
        "1639   AD39QGHGWAOPQ  B000LVMCIQ         5                5   \n",
        "1638  A2U80IPZXN5V1U  B000LVMCIQ         5                5   \n",
        "1637   AJKWF4W7QD4NS  B000LVMCIQ         5                5   \n",
        "1636   ARFCORBCTKX1J  B000LVMCIQ         5  [4.96551724138]   \n",
        "1635  A1HXP4PZYZE52M  B000LVMCIQ         5                5   \n",
        "1634  A1JH5J1KQAUBMP  B000LVMCHW         5            [4.9]   \n",
        "1633   AYGEKID3G7DPW  B000LVMCHW         5                5   \n",
        "1631  A139ZF7CJVVTJU  B000LVMCHW         5            [5.0]   \n",
        "\n",
        "              rating_err  \n",
        "1680    [-1.13333333333]  \n",
        "1644   [-0.411764705882]  \n",
        "1639                   0  \n",
        "1638                   0  \n",
        "1637                   0  \n",
        "1636  [-0.0344827586207]  \n",
        "1635                   0  \n",
        "1634              [-0.1]  \n",
        "1633                   0  \n",
        "1631               [0.0]  "
       ]
      }
     ],
     "prompt_number": 64
    },
    {
     "cell_type": "code",
     "collapsed": false,
     "input": [
      "# Let us simulate a new batch of ratings and update the slopeOne deviations accordingly\n",
      "no_new_ratings = 100\n",
      "new_rating_idx = np.random.randint(0,len(df_test),no_new_ratings)\n",
      "\n",
      "df_new = df_test.iloc[new_rating_idx]"
     ],
     "language": "python",
     "metadata": {
      "run_control": {
       "breakpoint": false
      }
     },
     "outputs": [],
     "prompt_number": 65
    },
    {
     "cell_type": "code",
     "collapsed": false,
     "input": [
      "df_new = drop_duplicate_rating(df_new)\n",
      "df_new_ratings = df_new.drop(['helpfulness','price','review time','title','userName'],axis=1,inplace=False)"
     ],
     "language": "python",
     "metadata": {},
     "outputs": [],
     "prompt_number": 66
    },
    {
     "cell_type": "code",
     "collapsed": false,
     "input": [
      "(dev_train,card_train,user_movies_train) = update_slopeOne_devs(df_new,dev_train,card_train,user_movies_train)\n"
     ],
     "language": "python",
     "metadata": {},
     "outputs": [],
     "prompt_number": 68
    },
    {
     "cell_type": "code",
     "collapsed": false,
     "input": [
      "# Predict with the new slopeOne devs\n",
      "df_new_sub = df_new.groupby('userID').filter(lambda x: len(x) > min_num_rate-1)  #this may be empty. \n",
      "df_ratings_train_sub = df_ratings_train_sub.append(df_new_sub)\n",
      "\n",
      "df_predicted_upd = predict_ratings_slopeOne(df_ratings_train_sub,movies,dev_train,card_train)  #updated predictions"
     ],
     "language": "python",
     "metadata": {},
     "outputs": [],
     "prompt_number": 75
    },
    {
     "cell_type": "code",
     "collapsed": false,
     "input": [
      "# Compute errors for the updated predicted ratings\n",
      "df_test_upd = df_test.drop(df_test.index[new_rating_idx])  \n",
      "df_test_pred_upd = pd.merge(df_test_upd, df_predicted_upd, on=['userID','videoID'])[['userID','videoID','rating_x','rating_y']]\n",
      "df_test_pred_upd['rating_err'] = df_test_pred_upd.rating_y - df_test_pred_upd.rating_x"
     ],
     "language": "python",
     "metadata": {},
     "outputs": [],
     "prompt_number": 79
    },
    {
     "cell_type": "code",
     "collapsed": false,
     "input": [
      "mean_error_slope1_upd = np.mean(df_test_pred_upd.rating_err.abs())\n",
      "print 'Mean error in updated predicted ratings by the weighted slope One algorithm is %0.3f' % mean_error_slope1_upd"
     ],
     "language": "python",
     "metadata": {},
     "outputs": [],
     "prompt_number": 80
    },
    {
     "cell_type": "code",
     "collapsed": false,
     "input": [
      "# Recommend movies to users for whom we have predicted ratings\n",
      "num_recom = 10   #recommend movies with top-N predicted ratings for each user \n",
      "recoms = recommend_movie(df_predicted_upd,num_recom)"
     ],
     "language": "python",
     "metadata": {},
     "outputs": [],
     "prompt_number": 107
    },
    {
     "cell_type": "code",
     "collapsed": false,
     "input": [
      "# Strip the annoying 'Amazon.com' tag from movie titles. \n",
      "df_video_IDname.title = df_video_IDname.title.apply(lambda x: re.sub(r'Amazon.com:', r'', x))"
     ],
     "language": "python",
     "metadata": {},
     "outputs": [],
     "prompt_number": 104
    },
    {
     "cell_type": "code",
     "collapsed": false,
     "input": [
      "recom_users = list(df_ratings_train_sub.userID.unique())"
     ],
     "language": "python",
     "metadata": {},
     "outputs": [],
     "prompt_number": 126
    },
    {
     "cell_type": "code",
     "collapsed": false,
     "input": [
      "df_user_IDname.head()"
     ],
     "language": "python",
     "metadata": {},
     "outputs": [
      {
       "html": [
        "<div style=\"max-height:1000px;max-width:1500px;overflow:auto;\">\n",
        "<table border=\"1\" class=\"dataframe\">\n",
        "  <thead>\n",
        "    <tr style=\"text-align: right;\">\n",
        "      <th></th>\n",
        "      <th>userID</th>\n",
        "      <th>userName</th>\n",
        "    </tr>\n",
        "  </thead>\n",
        "  <tbody>\n",
        "    <tr>\n",
        "      <th>0</th>\n",
        "      <td> A2Z8GGXKF1W48Y</td>\n",
        "      <td>                        Everlong Gone</td>\n",
        "    </tr>\n",
        "    <tr>\n",
        "      <th>1</th>\n",
        "      <td>  AZVY9Y3A0YU1I</td>\n",
        "      <td>                   Willard R. Stephen</td>\n",
        "    </tr>\n",
        "    <tr>\n",
        "      <th>2</th>\n",
        "      <td> A2582KMXLK2P06</td>\n",
        "      <td>                         B. E Jackson</td>\n",
        "    </tr>\n",
        "    <tr>\n",
        "      <th>3</th>\n",
        "      <td> A26R4PDCZX5SOK</td>\n",
        "      <td> Jim \"The World According to JimG944\"</td>\n",
        "    </tr>\n",
        "    <tr>\n",
        "      <th>4</th>\n",
        "      <td>        unknown</td>\n",
        "      <td>                              unknown</td>\n",
        "    </tr>\n",
        "  </tbody>\n",
        "</table>\n",
        "</div>"
       ],
       "metadata": {},
       "output_type": "pyout",
       "prompt_number": 128,
       "text": [
        "           userID                              userName\n",
        "0  A2Z8GGXKF1W48Y                         Everlong Gone\n",
        "1   AZVY9Y3A0YU1I                    Willard R. Stephen\n",
        "2  A2582KMXLK2P06                          B. E Jackson\n",
        "3  A26R4PDCZX5SOK  Jim \"The World According to JimG944\"\n",
        "4         unknown                               unknown"
       ]
      }
     ],
     "prompt_number": 128
    },
    {
     "cell_type": "code",
     "collapsed": false,
     "input": [
      "# Choose a user randomly from the users we have recommendations for\n",
      "user_to_recom = recom_users[np.random.randint(0,len(recom_users),1)]\n",
      "user_recom_name = df_user_IDname['userName'].loc[df_user_IDname.userID==user_to_recom]"
     ],
     "language": "python",
     "metadata": {},
     "outputs": [
      {
       "metadata": {},
       "output_type": "pyout",
       "prompt_number": 130,
       "text": [
        "38159    M. R. Estante \"book reader\"\n",
        "Name: userName, dtype: object"
       ]
      }
     ],
     "prompt_number": 130
    },
    {
     "cell_type": "code",
     "collapsed": false,
     "input": [
      "# Recommend movies for the user\n",
      "recom_titles = pd.merge(recoms[str(user_to_recom)],df_video_IDname,on='videoID')\n",
      "recom_titles\n",
      "print 'Top recommended titles for ' + str(user_recom_name) + ':' \n",
      "print str(recom_titles.title)"
     ],
     "language": "python",
     "metadata": {},
     "outputs": [],
     "prompt_number": 139
    },
    {
     "cell_type": "code",
     "collapsed": false,
     "input": [],
     "language": "python",
     "metadata": {},
     "outputs": [],
     "prompt_number": 115
    },
    {
     "cell_type": "code",
     "collapsed": false,
     "input": [
      "\n",
      "\n"
     ],
     "language": "python",
     "metadata": {},
     "outputs": [],
     "prompt_number": 190
    },
    {
     "cell_type": "code",
     "collapsed": false,
     "input": [],
     "language": "python",
     "metadata": {},
     "outputs": []
    }
   ],
   "metadata": {}
  }
 ]
}